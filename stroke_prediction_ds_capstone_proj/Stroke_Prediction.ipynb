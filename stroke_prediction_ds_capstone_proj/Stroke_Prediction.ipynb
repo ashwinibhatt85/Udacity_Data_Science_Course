{
 "cells": [
  {
   "cell_type": "markdown",
   "metadata": {},
   "source": [
    "#### Stroke Prediction : Capstone Project, Udacity Data Science Nanodegree "
   ]
  },
  {
   "cell_type": "markdown",
   "metadata": {},
   "source": [
    "## Table of Contents\n",
    "* [Introduction](#int)\n",
    "* [Data Understanding](#load)\n",
    "    * [Exploratory Data Analysis](#eda)\n",
    "* [Data Prep](#prep)\n",
    "    * [Feature Extraction](#fext)\n",
    "    * [Train test Split](#ttsplit)\n",
    "* [Modeling](#model)\n",
    "* [Conclusions](#conclude)"
   ]
  },
  {
   "cell_type": "markdown",
   "metadata": {},
   "source": [
    "## Introduction\n",
    "<a class=\"anchor\" id=\"int\"></a>\n",
    "\n",
    "According to WHO (World Health Organization), Stroke is the second leading cause of death globally, being responsible for about 11% of the total deaths.\n",
    "\n",
    "In this project I will be loading and manipulating a patients dataset with pandas and sklearn to engineer relevant features for predicting stroke. The Stroke prediction data contains information about a set of 5110 patients,  collecting basic health details, measures and their lifestyle choices. This dataset is used to predict whether a patient is likely to get stroke based on the input parameters like gender, age, various diseases, and smoking status. Each row in the data provides relavant information about the patient. \n",
    "\n",
    "We will be comparing few machine learning models and then choosing the best machine learning model that predict the chances of Stroke in the patients. "
   ]
  },
  {
   "cell_type": "code",
   "execution_count": 1,
   "metadata": {},
   "outputs": [],
   "source": [
    "# import libraries\n",
    "import time\n",
    "import pandas as pd\n",
    "import numpy as np\n",
    "import seaborn  as sns\n",
    "import sklearn\n",
    "\n",
    "from IPython.display import display \n",
    "from sklearn.model_selection import train_test_split\n",
    "from sklearn.metrics import mutual_info_score\n",
    "from sklearn.linear_model import LogisticRegression\n",
    "from sklearn.ensemble import RandomForestClassifier\n",
    "from sklearn.neighbors import KNeighborsClassifier\n",
    "from sklearn.svm import SVC\n",
    "from sklearn.naive_bayes import GaussianNB\n",
    "from sklearn.model_selection import GridSearchCV\n",
    "from sklearn import metrics\n",
    "from sklearn.metrics import confusion_matrix\n",
    "from sklearn.metrics import plot_confusion_matrix\n",
    "from matplotlib import pyplot as plt\n",
    "%matplotlib inline\n"
   ]
  },
  {
   "cell_type": "markdown",
   "metadata": {},
   "source": [
    "## Data Understanding\n",
    "<a class=\"anchor\" id=\"load\"></a>\n",
    "Our dataset file is `healthcare_dataset_stroke_data.csv`. First the dataset must be loaded, cleaned, evaluated and Preped. For e.g., checking for invalid or missing data - for example, records without key features like Age, Hypertension, Average glucose level, BMI etc."
   ]
  },
  {
   "cell_type": "code",
   "execution_count": 2,
   "metadata": {},
   "outputs": [
    {
     "data": {
      "text/html": [
       "<div>\n",
       "<style scoped>\n",
       "    .dataframe tbody tr th:only-of-type {\n",
       "        vertical-align: middle;\n",
       "    }\n",
       "\n",
       "    .dataframe tbody tr th {\n",
       "        vertical-align: top;\n",
       "    }\n",
       "\n",
       "    .dataframe thead th {\n",
       "        text-align: right;\n",
       "    }\n",
       "</style>\n",
       "<table border=\"1\" class=\"dataframe\">\n",
       "  <thead>\n",
       "    <tr style=\"text-align: right;\">\n",
       "      <th></th>\n",
       "      <th>id</th>\n",
       "      <th>gender</th>\n",
       "      <th>age</th>\n",
       "      <th>hypertension</th>\n",
       "      <th>heart_disease</th>\n",
       "      <th>ever_married</th>\n",
       "      <th>work_type</th>\n",
       "      <th>Residence_type</th>\n",
       "      <th>avg_glucose_level</th>\n",
       "      <th>bmi</th>\n",
       "      <th>smoking_status</th>\n",
       "      <th>stroke</th>\n",
       "    </tr>\n",
       "  </thead>\n",
       "  <tbody>\n",
       "    <tr>\n",
       "      <th>0</th>\n",
       "      <td>9046</td>\n",
       "      <td>Male</td>\n",
       "      <td>67.0</td>\n",
       "      <td>0</td>\n",
       "      <td>1</td>\n",
       "      <td>Yes</td>\n",
       "      <td>Private</td>\n",
       "      <td>Urban</td>\n",
       "      <td>228.69</td>\n",
       "      <td>36.6</td>\n",
       "      <td>formerly smoked</td>\n",
       "      <td>1</td>\n",
       "    </tr>\n",
       "    <tr>\n",
       "      <th>1</th>\n",
       "      <td>51676</td>\n",
       "      <td>Female</td>\n",
       "      <td>61.0</td>\n",
       "      <td>0</td>\n",
       "      <td>0</td>\n",
       "      <td>Yes</td>\n",
       "      <td>Self-employed</td>\n",
       "      <td>Rural</td>\n",
       "      <td>202.21</td>\n",
       "      <td>NaN</td>\n",
       "      <td>never smoked</td>\n",
       "      <td>1</td>\n",
       "    </tr>\n",
       "    <tr>\n",
       "      <th>2</th>\n",
       "      <td>31112</td>\n",
       "      <td>Male</td>\n",
       "      <td>80.0</td>\n",
       "      <td>0</td>\n",
       "      <td>1</td>\n",
       "      <td>Yes</td>\n",
       "      <td>Private</td>\n",
       "      <td>Rural</td>\n",
       "      <td>105.92</td>\n",
       "      <td>32.5</td>\n",
       "      <td>never smoked</td>\n",
       "      <td>1</td>\n",
       "    </tr>\n",
       "    <tr>\n",
       "      <th>3</th>\n",
       "      <td>60182</td>\n",
       "      <td>Female</td>\n",
       "      <td>49.0</td>\n",
       "      <td>0</td>\n",
       "      <td>0</td>\n",
       "      <td>Yes</td>\n",
       "      <td>Private</td>\n",
       "      <td>Urban</td>\n",
       "      <td>171.23</td>\n",
       "      <td>34.4</td>\n",
       "      <td>smokes</td>\n",
       "      <td>1</td>\n",
       "    </tr>\n",
       "    <tr>\n",
       "      <th>4</th>\n",
       "      <td>1665</td>\n",
       "      <td>Female</td>\n",
       "      <td>79.0</td>\n",
       "      <td>1</td>\n",
       "      <td>0</td>\n",
       "      <td>Yes</td>\n",
       "      <td>Self-employed</td>\n",
       "      <td>Rural</td>\n",
       "      <td>174.12</td>\n",
       "      <td>24.0</td>\n",
       "      <td>never smoked</td>\n",
       "      <td>1</td>\n",
       "    </tr>\n",
       "  </tbody>\n",
       "</table>\n",
       "</div>"
      ],
      "text/plain": [
       "      id  gender   age  hypertension  heart_disease ever_married  \\\n",
       "0   9046    Male  67.0             0              1          Yes   \n",
       "1  51676  Female  61.0             0              0          Yes   \n",
       "2  31112    Male  80.0             0              1          Yes   \n",
       "3  60182  Female  49.0             0              0          Yes   \n",
       "4   1665  Female  79.0             1              0          Yes   \n",
       "\n",
       "       work_type Residence_type  avg_glucose_level   bmi   smoking_status  \\\n",
       "0        Private          Urban             228.69  36.6  formerly smoked   \n",
       "1  Self-employed          Rural             202.21   NaN     never smoked   \n",
       "2        Private          Rural             105.92  32.5     never smoked   \n",
       "3        Private          Urban             171.23  34.4           smokes   \n",
       "4  Self-employed          Rural             174.12  24.0     never smoked   \n",
       "\n",
       "   stroke  \n",
       "0       1  \n",
       "1       1  \n",
       "2       1  \n",
       "3       1  \n",
       "4       1  "
      ]
     },
     "execution_count": 2,
     "metadata": {},
     "output_type": "execute_result"
    }
   ],
   "source": [
    "# read csv file and look at the data \n",
    "df = pd.read_csv(\"healthcare_dataset_stroke_data.csv\")\n",
    "df.head()"
   ]
  },
  {
   "cell_type": "code",
   "execution_count": 3,
   "metadata": {},
   "outputs": [
    {
     "name": "stdout",
     "output_type": "stream",
     "text": [
      "<class 'pandas.core.frame.DataFrame'>\n",
      "RangeIndex: 5110 entries, 0 to 5109\n",
      "Data columns (total 12 columns):\n",
      " #   Column             Non-Null Count  Dtype  \n",
      "---  ------             --------------  -----  \n",
      " 0   id                 5110 non-null   int64  \n",
      " 1   gender             5110 non-null   object \n",
      " 2   age                5110 non-null   float64\n",
      " 3   hypertension       5110 non-null   int64  \n",
      " 4   heart_disease      5110 non-null   int64  \n",
      " 5   ever_married       5110 non-null   object \n",
      " 6   work_type          5110 non-null   object \n",
      " 7   Residence_type     5110 non-null   object \n",
      " 8   avg_glucose_level  5110 non-null   float64\n",
      " 9   bmi                4909 non-null   float64\n",
      " 10  smoking_status     5110 non-null   object \n",
      " 11  stroke             5110 non-null   int64  \n",
      "dtypes: float64(3), int64(4), object(5)\n",
      "memory usage: 479.2+ KB\n"
     ]
    }
   ],
   "source": [
    "# Let's look at how pandas infered the schema of the orginal dataset\n",
    "df.info()"
   ]
  },
  {
   "cell_type": "code",
   "execution_count": 4,
   "metadata": {},
   "outputs": [
    {
     "data": {
      "text/plain": [
       "id     gender  age    hypertension  heart_disease  ever_married  work_type  Residence_type  avg_glucose_level  bmi    smoking_status  stroke\n",
       "False  False   False  False         False          False         False      False           False              False  False           False     4909\n",
       "                                                                                                               True   False           False      201\n",
       "dtype: int64"
      ]
     },
     "execution_count": 4,
     "metadata": {},
     "output_type": "execute_result"
    }
   ],
   "source": [
    "# Let's get the counts of Nulls in all the columns\n",
    "df.isnull().value_counts()"
   ]
  },
  {
   "cell_type": "code",
   "execution_count": 5,
   "metadata": {},
   "outputs": [
    {
     "data": {
      "text/html": [
       "<div>\n",
       "<style scoped>\n",
       "    .dataframe tbody tr th:only-of-type {\n",
       "        vertical-align: middle;\n",
       "    }\n",
       "\n",
       "    .dataframe tbody tr th {\n",
       "        vertical-align: top;\n",
       "    }\n",
       "\n",
       "    .dataframe thead th {\n",
       "        text-align: right;\n",
       "    }\n",
       "</style>\n",
       "<table border=\"1\" class=\"dataframe\">\n",
       "  <thead>\n",
       "    <tr style=\"text-align: right;\">\n",
       "      <th></th>\n",
       "      <th>id</th>\n",
       "      <th>gender</th>\n",
       "      <th>age</th>\n",
       "      <th>hypertension</th>\n",
       "      <th>heart_disease</th>\n",
       "      <th>ever_married</th>\n",
       "      <th>work_type</th>\n",
       "      <th>Residence_type</th>\n",
       "      <th>avg_glucose_level</th>\n",
       "      <th>bmi</th>\n",
       "      <th>smoking_status</th>\n",
       "      <th>stroke</th>\n",
       "    </tr>\n",
       "  </thead>\n",
       "  <tbody>\n",
       "    <tr>\n",
       "      <th>1</th>\n",
       "      <td>51676</td>\n",
       "      <td>Female</td>\n",
       "      <td>61.0</td>\n",
       "      <td>0</td>\n",
       "      <td>0</td>\n",
       "      <td>Yes</td>\n",
       "      <td>Self-employed</td>\n",
       "      <td>Rural</td>\n",
       "      <td>202.21</td>\n",
       "      <td>NaN</td>\n",
       "      <td>never smoked</td>\n",
       "      <td>1</td>\n",
       "    </tr>\n",
       "    <tr>\n",
       "      <th>8</th>\n",
       "      <td>27419</td>\n",
       "      <td>Female</td>\n",
       "      <td>59.0</td>\n",
       "      <td>0</td>\n",
       "      <td>0</td>\n",
       "      <td>Yes</td>\n",
       "      <td>Private</td>\n",
       "      <td>Rural</td>\n",
       "      <td>76.15</td>\n",
       "      <td>NaN</td>\n",
       "      <td>Unknown</td>\n",
       "      <td>1</td>\n",
       "    </tr>\n",
       "    <tr>\n",
       "      <th>13</th>\n",
       "      <td>8213</td>\n",
       "      <td>Male</td>\n",
       "      <td>78.0</td>\n",
       "      <td>0</td>\n",
       "      <td>1</td>\n",
       "      <td>Yes</td>\n",
       "      <td>Private</td>\n",
       "      <td>Urban</td>\n",
       "      <td>219.84</td>\n",
       "      <td>NaN</td>\n",
       "      <td>Unknown</td>\n",
       "      <td>1</td>\n",
       "    </tr>\n",
       "    <tr>\n",
       "      <th>19</th>\n",
       "      <td>25226</td>\n",
       "      <td>Male</td>\n",
       "      <td>57.0</td>\n",
       "      <td>0</td>\n",
       "      <td>1</td>\n",
       "      <td>No</td>\n",
       "      <td>Govt_job</td>\n",
       "      <td>Urban</td>\n",
       "      <td>217.08</td>\n",
       "      <td>NaN</td>\n",
       "      <td>Unknown</td>\n",
       "      <td>1</td>\n",
       "    </tr>\n",
       "    <tr>\n",
       "      <th>27</th>\n",
       "      <td>61843</td>\n",
       "      <td>Male</td>\n",
       "      <td>58.0</td>\n",
       "      <td>0</td>\n",
       "      <td>0</td>\n",
       "      <td>Yes</td>\n",
       "      <td>Private</td>\n",
       "      <td>Rural</td>\n",
       "      <td>189.84</td>\n",
       "      <td>NaN</td>\n",
       "      <td>Unknown</td>\n",
       "      <td>1</td>\n",
       "    </tr>\n",
       "    <tr>\n",
       "      <th>...</th>\n",
       "      <td>...</td>\n",
       "      <td>...</td>\n",
       "      <td>...</td>\n",
       "      <td>...</td>\n",
       "      <td>...</td>\n",
       "      <td>...</td>\n",
       "      <td>...</td>\n",
       "      <td>...</td>\n",
       "      <td>...</td>\n",
       "      <td>...</td>\n",
       "      <td>...</td>\n",
       "      <td>...</td>\n",
       "    </tr>\n",
       "    <tr>\n",
       "      <th>5039</th>\n",
       "      <td>42007</td>\n",
       "      <td>Male</td>\n",
       "      <td>41.0</td>\n",
       "      <td>0</td>\n",
       "      <td>0</td>\n",
       "      <td>No</td>\n",
       "      <td>Private</td>\n",
       "      <td>Rural</td>\n",
       "      <td>70.15</td>\n",
       "      <td>NaN</td>\n",
       "      <td>formerly smoked</td>\n",
       "      <td>0</td>\n",
       "    </tr>\n",
       "    <tr>\n",
       "      <th>5048</th>\n",
       "      <td>28788</td>\n",
       "      <td>Male</td>\n",
       "      <td>40.0</td>\n",
       "      <td>0</td>\n",
       "      <td>0</td>\n",
       "      <td>Yes</td>\n",
       "      <td>Private</td>\n",
       "      <td>Urban</td>\n",
       "      <td>191.15</td>\n",
       "      <td>NaN</td>\n",
       "      <td>smokes</td>\n",
       "      <td>0</td>\n",
       "    </tr>\n",
       "    <tr>\n",
       "      <th>5093</th>\n",
       "      <td>32235</td>\n",
       "      <td>Female</td>\n",
       "      <td>45.0</td>\n",
       "      <td>1</td>\n",
       "      <td>0</td>\n",
       "      <td>Yes</td>\n",
       "      <td>Govt_job</td>\n",
       "      <td>Rural</td>\n",
       "      <td>95.02</td>\n",
       "      <td>NaN</td>\n",
       "      <td>smokes</td>\n",
       "      <td>0</td>\n",
       "    </tr>\n",
       "    <tr>\n",
       "      <th>5099</th>\n",
       "      <td>7293</td>\n",
       "      <td>Male</td>\n",
       "      <td>40.0</td>\n",
       "      <td>0</td>\n",
       "      <td>0</td>\n",
       "      <td>Yes</td>\n",
       "      <td>Private</td>\n",
       "      <td>Rural</td>\n",
       "      <td>83.94</td>\n",
       "      <td>NaN</td>\n",
       "      <td>smokes</td>\n",
       "      <td>0</td>\n",
       "    </tr>\n",
       "    <tr>\n",
       "      <th>5105</th>\n",
       "      <td>18234</td>\n",
       "      <td>Female</td>\n",
       "      <td>80.0</td>\n",
       "      <td>1</td>\n",
       "      <td>0</td>\n",
       "      <td>Yes</td>\n",
       "      <td>Private</td>\n",
       "      <td>Urban</td>\n",
       "      <td>83.75</td>\n",
       "      <td>NaN</td>\n",
       "      <td>never smoked</td>\n",
       "      <td>0</td>\n",
       "    </tr>\n",
       "  </tbody>\n",
       "</table>\n",
       "<p>201 rows × 12 columns</p>\n",
       "</div>"
      ],
      "text/plain": [
       "         id  gender   age  hypertension  heart_disease ever_married  \\\n",
       "1     51676  Female  61.0             0              0          Yes   \n",
       "8     27419  Female  59.0             0              0          Yes   \n",
       "13     8213    Male  78.0             0              1          Yes   \n",
       "19    25226    Male  57.0             0              1           No   \n",
       "27    61843    Male  58.0             0              0          Yes   \n",
       "...     ...     ...   ...           ...            ...          ...   \n",
       "5039  42007    Male  41.0             0              0           No   \n",
       "5048  28788    Male  40.0             0              0          Yes   \n",
       "5093  32235  Female  45.0             1              0          Yes   \n",
       "5099   7293    Male  40.0             0              0          Yes   \n",
       "5105  18234  Female  80.0             1              0          Yes   \n",
       "\n",
       "          work_type Residence_type  avg_glucose_level  bmi   smoking_status  \\\n",
       "1     Self-employed          Rural             202.21  NaN     never smoked   \n",
       "8           Private          Rural              76.15  NaN          Unknown   \n",
       "13          Private          Urban             219.84  NaN          Unknown   \n",
       "19         Govt_job          Urban             217.08  NaN          Unknown   \n",
       "27          Private          Rural             189.84  NaN          Unknown   \n",
       "...             ...            ...                ...  ...              ...   \n",
       "5039        Private          Rural              70.15  NaN  formerly smoked   \n",
       "5048        Private          Urban             191.15  NaN           smokes   \n",
       "5093       Govt_job          Rural              95.02  NaN           smokes   \n",
       "5099        Private          Rural              83.94  NaN           smokes   \n",
       "5105        Private          Urban              83.75  NaN     never smoked   \n",
       "\n",
       "      stroke  \n",
       "1          1  \n",
       "8          1  \n",
       "13         1  \n",
       "19         1  \n",
       "27         1  \n",
       "...      ...  \n",
       "5039       0  \n",
       "5048       0  \n",
       "5093       0  \n",
       "5099       0  \n",
       "5105       0  \n",
       "\n",
       "[201 rows x 12 columns]"
      ]
     },
     "execution_count": 5,
     "metadata": {},
     "output_type": "execute_result"
    }
   ],
   "source": [
    "# Looks like 'bmi' is the only column with Null values in it.\n",
    "df[df['bmi'].isna()]"
   ]
  },
  {
   "cell_type": "markdown",
   "metadata": {},
   "source": [
    " Below are our initial observations:\n",
    "     \n",
    "     1) There are 5110 rows and 12 columns which is of a decent size, and except 'bmi' all other columns are with no nulls\n",
    "     2) Stroke is the prediction target for our model. It takes two values: 1 if the participant had a stroke and 0 if the participant didn’t. \n",
    "     3) Stroke column is a numeric type , that means we dont have to convert it. \n",
    "     4) \"Unknown\" in smoking_status means that the information is unavailable for this patient"
   ]
  },
  {
   "cell_type": "code",
   "execution_count": 6,
   "metadata": {},
   "outputs": [
    {
     "data": {
      "text/plain": [
       "id     gender  age    hypertension  heart_disease  ever_married  work_type  Residence_type  avg_glucose_level  bmi   smoking_status  stroke\n",
       "False  False   False  False         False          False         False      False           False              True  False           False     201\n",
       "dtype: int64"
      ]
     },
     "execution_count": 6,
     "metadata": {},
     "output_type": "execute_result"
    }
   ],
   "source": [
    "#Lets double check if we are correct about 'bmi' being the only column with Nulls in it.\n",
    "df[df['bmi'].isnull()].isna().value_counts()"
   ]
  },
  {
   "cell_type": "code",
   "execution_count": 7,
   "metadata": {},
   "outputs": [
    {
     "data": {
      "text/plain": [
       "201"
      ]
     },
     "execution_count": 7,
     "metadata": {},
     "output_type": "execute_result"
    }
   ],
   "source": [
    "# Confirming the total number of NaN values in the bmi column\n",
    "df['bmi'].isnull().sum()"
   ]
  },
  {
   "cell_type": "markdown",
   "metadata": {},
   "source": [
    "> We have 201 NaN values for the BMI column, which is nearly less than 4% of the total records.\n",
    "\n",
    "> Since BMI is one of the key features in our dataset, I would rather impute values than delete those records with missing values.\n",
    "\n",
    "> To impute values I will be using the Forward Fill, Back Fill methods to populate values in the BMI column, after the DF is sorted by Gender and Age, and grouped by Gender."
   ]
  },
  {
   "cell_type": "code",
   "execution_count": 8,
   "metadata": {},
   "outputs": [
    {
     "data": {
      "text/plain": [
       "id     gender  age    hypertension  heart_disease  ever_married  work_type  Residence_type  avg_glucose_level  bmi    smoking_status  stroke\n",
       "False  False   False  False         False          False         False      False           False              False  False           False     5110\n",
       "dtype: int64"
      ]
     },
     "execution_count": 8,
     "metadata": {},
     "output_type": "execute_result"
    }
   ],
   "source": [
    "#Imputing the missing values in the BMI column, using ffill, bfill methods and then checking the NaN value counts in the df\n",
    "df['bmi'] = df.sort_values(by=['gender','age']).groupby('gender')['bmi'].fillna(method='ffill').fillna(method='bfill')\n",
    "df.isna().value_counts()"
   ]
  },
  {
   "cell_type": "markdown",
   "metadata": {},
   "source": [
    "> We do not have any NaN values in any of the columns in our DF now."
   ]
  },
  {
   "cell_type": "code",
   "execution_count": 9,
   "metadata": {},
   "outputs": [],
   "source": [
    "# Let's make all the column names case normalized for consistency sake\n",
    "df.columns = df.columns.str.lower()"
   ]
  },
  {
   "cell_type": "code",
   "execution_count": 10,
   "metadata": {},
   "outputs": [
    {
     "data": {
      "text/plain": [
       "Index(['id', 'gender', 'age', 'hypertension', 'heart_disease', 'ever_married',\n",
       "       'work_type', 'residence_type', 'avg_glucose_level', 'bmi',\n",
       "       'smoking_status', 'stroke'],\n",
       "      dtype='object')"
      ]
     },
     "execution_count": 10,
     "metadata": {},
     "output_type": "execute_result"
    }
   ],
   "source": [
    "# look at the new column names to ensure the names are all case normalized\n",
    "df.columns"
   ]
  },
  {
   "cell_type": "code",
   "execution_count": 11,
   "metadata": {},
   "outputs": [
    {
     "data": {
      "image/png": "[encoded data removed]",
      "text/plain": [
       "<Figure size 432x288 with 9 Axes>"
      ]
     },
     "metadata": {
      "needs_background": "light"
     },
     "output_type": "display_data"
    }
   ],
   "source": [
    "# let's look at the distribution of numerical columns of our dataframe\n",
    "df.hist();"
   ]
  },
  {
   "cell_type": "markdown",
   "metadata": {},
   "source": [
    "> The age column has a good distribution of patients ranging from 8 months to 82 years. The number patients with heart disease is < 300, number of patients with hypertesnion is less than 500 and number of patients with a previous history of Stroke is \n",
    "less than 250. \n",
    "\n",
    "> The Average Glucose level column has mixed distribution, with majority of the patients having less than 200 Avg_Glucose_Levels"
   ]
  },
  {
   "cell_type": "code",
   "execution_count": 12,
   "metadata": {},
   "outputs": [],
   "source": [
    "# The columns (hypertension and heart_disease) show as integer datatype (1,0) , lets convert them into an object datatype\n",
    "df[\"hypertension\"]=df[\"hypertension\"].astype(\"object\")\n",
    "df[\"heart_disease\"]=df[\"heart_disease\"].astype(\"object\")"
   ]
  },
  {
   "cell_type": "code",
   "execution_count": 13,
   "metadata": {},
   "outputs": [
    {
     "name": "stdout",
     "output_type": "stream",
     "text": [
      "<class 'pandas.core.frame.DataFrame'>\n",
      "RangeIndex: 5110 entries, 0 to 5109\n",
      "Data columns (total 12 columns):\n",
      " #   Column             Non-Null Count  Dtype  \n",
      "---  ------             --------------  -----  \n",
      " 0   id                 5110 non-null   int64  \n",
      " 1   gender             5110 non-null   object \n",
      " 2   age                5110 non-null   float64\n",
      " 3   hypertension       5110 non-null   object \n",
      " 4   heart_disease      5110 non-null   object \n",
      " 5   ever_married       5110 non-null   object \n",
      " 6   work_type          5110 non-null   object \n",
      " 7   residence_type     5110 non-null   object \n",
      " 8   avg_glucose_level  5110 non-null   float64\n",
      " 9   bmi                5110 non-null   float64\n",
      " 10  smoking_status     5110 non-null   object \n",
      " 11  stroke             5110 non-null   int64  \n",
      "dtypes: float64(3), int64(2), object(7)\n",
      "memory usage: 479.2+ KB\n"
     ]
    }
   ],
   "source": [
    "#Lets check the schema of the updated dataset\n",
    "df.info()"
   ]
  },
  {
   "cell_type": "markdown",
   "metadata": {},
   "source": [
    "> This now gives us two more additional categorical eatures in our dataset, viz. Hypertension and Heart_Disease"
   ]
  },
  {
   "cell_type": "markdown",
   "metadata": {},
   "source": [
    "##### Exploratory data analysis\n",
    "<a class=\"anchor\" id=\"eda\"></a>\n",
    "Looking forward to at the data in a ML modelling perspective and understanding it beforehand, is crucial step in building a succesfull machine learning model.\n",
    "We should always look for missing values, distribution of values in target variable, number of unique categorical values etc."
   ]
  },
  {
   "cell_type": "markdown",
   "metadata": {},
   "source": [
    "> Look for any additional null handling needs in the dataset"
   ]
  },
  {
   "cell_type": "code",
   "execution_count": 14,
   "metadata": {
    "scrolled": true
   },
   "outputs": [
    {
     "data": {
      "text/plain": [
       "id                   0\n",
       "gender               0\n",
       "age                  0\n",
       "hypertension         0\n",
       "heart_disease        0\n",
       "ever_married         0\n",
       "work_type            0\n",
       "residence_type       0\n",
       "avg_glucose_level    0\n",
       "bmi                  0\n",
       "smoking_status       0\n",
       "stroke               0\n",
       "dtype: int64"
      ]
     },
     "execution_count": 14,
     "metadata": {},
     "output_type": "execute_result"
    }
   ],
   "source": [
    "# Check for null values in our df\n",
    "df.isnull().sum()"
   ]
  },
  {
   "cell_type": "markdown",
   "metadata": {},
   "source": [
    "> We do not have any null values to handle\n",
    "\n",
    "> Let us look at the distribution and description of the few key column's values."
   ]
  },
  {
   "cell_type": "code",
   "execution_count": 15,
   "metadata": {},
   "outputs": [
    {
     "data": {
      "text/plain": [
       "0    4834\n",
       "1     276\n",
       "Name: heart_disease, dtype: int64"
      ]
     },
     "execution_count": 15,
     "metadata": {},
     "output_type": "execute_result"
    }
   ],
   "source": [
    "df.heart_disease.value_counts()"
   ]
  },
  {
   "cell_type": "code",
   "execution_count": 16,
   "metadata": {},
   "outputs": [
    {
     "data": {
      "text/plain": [
       "count    5110.000000\n",
       "mean       43.226614\n",
       "std        22.612647\n",
       "min         0.080000\n",
       "25%        25.000000\n",
       "50%        45.000000\n",
       "75%        61.000000\n",
       "max        82.000000\n",
       "Name: age, dtype: float64"
      ]
     },
     "execution_count": 16,
     "metadata": {},
     "output_type": "execute_result"
    }
   ],
   "source": [
    "df.age.describe()"
   ]
  },
  {
   "cell_type": "code",
   "execution_count": 17,
   "metadata": {},
   "outputs": [
    {
     "data": {
      "text/plain": [
       "count    5110.000000\n",
       "mean      106.147677\n",
       "std        45.283560\n",
       "min        55.120000\n",
       "25%        77.245000\n",
       "50%        91.885000\n",
       "75%       114.090000\n",
       "max       271.740000\n",
       "Name: avg_glucose_level, dtype: float64"
      ]
     },
     "execution_count": 17,
     "metadata": {},
     "output_type": "execute_result"
    }
   ],
   "source": [
    "df.avg_glucose_level.describe()"
   ]
  },
  {
   "cell_type": "code",
   "execution_count": 18,
   "metadata": {},
   "outputs": [
    {
     "data": {
      "text/plain": [
       "0    4612\n",
       "1     498\n",
       "Name: hypertension, dtype: int64"
      ]
     },
     "execution_count": 18,
     "metadata": {},
     "output_type": "execute_result"
    }
   ],
   "source": [
    "df.hypertension.value_counts()"
   ]
  },
  {
   "cell_type": "code",
   "execution_count": 19,
   "metadata": {},
   "outputs": [
    {
     "data": {
      "text/plain": [
       "Female    2994\n",
       "Male      2115\n",
       "Other        1\n",
       "Name: gender, dtype: int64"
      ]
     },
     "execution_count": 19,
     "metadata": {},
     "output_type": "execute_result"
    }
   ],
   "source": [
    "df.gender.value_counts()"
   ]
  },
  {
   "cell_type": "markdown",
   "metadata": {},
   "source": [
    "> Let us also look at the cardinality of the categorical features' values."
   ]
  },
  {
   "cell_type": "code",
   "execution_count": 20,
   "metadata": {},
   "outputs": [
    {
     "data": {
      "text/plain": [
       "gender            3\n",
       "hypertension      2\n",
       "heart_disease     2\n",
       "ever_married      2\n",
       "work_type         5\n",
       "residence_type    2\n",
       "smoking_status    4\n",
       "dtype: int64"
      ]
     },
     "execution_count": 20,
     "metadata": {},
     "output_type": "execute_result"
    }
   ],
   "source": [
    "# print the number of unique values in each of the categorical column\n",
    "df.select_dtypes(include=\"object\").nunique()"
   ]
  },
  {
   "cell_type": "markdown",
   "metadata": {},
   "source": [
    "> The categorical columns have low cardinality which is good news. That means we do not have to perform any additional handling of the values as of now.\n",
    "\n",
    "> Let's check the distribution of target values"
   ]
  },
  {
   "cell_type": "code",
   "execution_count": 21,
   "metadata": {},
   "outputs": [
    {
     "data": {
      "image/png": "[encoded data removed]",
      "text/plain": [
       "<Figure size 432x288 with 1 Axes>"
      ]
     },
     "metadata": {
      "needs_background": "light"
     },
     "output_type": "display_data"
    }
   ],
   "source": [
    "# Lets first plot the distribution and get a visual\n",
    "df.stroke.value_counts().plot(kind='bar');"
   ]
  },
  {
   "cell_type": "code",
   "execution_count": 22,
   "metadata": {},
   "outputs": [
    {
     "data": {
      "text/plain": [
       "0    4861\n",
       "1     249\n",
       "Name: stroke, dtype: int64"
      ]
     },
     "execution_count": 22,
     "metadata": {},
     "output_type": "execute_result"
    }
   ],
   "source": [
    "# The distribution is imbalanced, let's get the exact counts for the distribution\n",
    "df.stroke.value_counts()"
   ]
  },
  {
   "cell_type": "markdown",
   "metadata": {},
   "source": [
    "> The dataset is an imbalanced dataset since the number of patients with prior history of Stroke (nearly 250) is way less than the patients that do not have a prior history of Stroke (less than 4900)"
   ]
  },
  {
   "cell_type": "code",
   "execution_count": 23,
   "metadata": {},
   "outputs": [
    {
     "data": {
      "text/plain": [
       "4.87279843444227"
      ]
     },
     "execution_count": 23,
     "metadata": {},
     "output_type": "execute_result"
    }
   ],
   "source": [
    "# check for the overall Stroke rate\n",
    "stroke_avg=df[\"stroke\"].mean()\n",
    "stroke_avg*100"
   ]
  },
  {
   "cell_type": "markdown",
   "metadata": {},
   "source": [
    "> The Stroke rate for the patient population in our dataset is around 4.8%\n",
    "\n",
    "> Lets calculate the Risk Ratio for all of the categorical features to check for Stroke risk across all groups in those features"
   ]
  },
  {
   "cell_type": "code",
   "execution_count": 24,
   "metadata": {},
   "outputs": [],
   "source": [
    "# create a list of variables whose data type is object and assign it to a categorical variable \n",
    "cat_var=list(df.select_dtypes(include=\"object\").columns)"
   ]
  },
  {
   "cell_type": "code",
   "execution_count": 25,
   "metadata": {},
   "outputs": [
    {
     "data": {
      "text/html": [
       "<div>\n",
       "<style scoped>\n",
       "    .dataframe tbody tr th:only-of-type {\n",
       "        vertical-align: middle;\n",
       "    }\n",
       "\n",
       "    .dataframe tbody tr th {\n",
       "        vertical-align: top;\n",
       "    }\n",
       "\n",
       "    .dataframe thead th {\n",
       "        text-align: right;\n",
       "    }\n",
       "</style>\n",
       "<table border=\"1\" class=\"dataframe\">\n",
       "  <thead>\n",
       "    <tr style=\"text-align: right;\">\n",
       "      <th></th>\n",
       "      <th>mean</th>\n",
       "      <th>rate</th>\n",
       "    </tr>\n",
       "    <tr>\n",
       "      <th>gender</th>\n",
       "      <th></th>\n",
       "      <th></th>\n",
       "    </tr>\n",
       "  </thead>\n",
       "  <tbody>\n",
       "    <tr>\n",
       "      <th>Female</th>\n",
       "      <td>0.047094</td>\n",
       "      <td>0.966471</td>\n",
       "    </tr>\n",
       "    <tr>\n",
       "      <th>Male</th>\n",
       "      <td>0.051064</td>\n",
       "      <td>1.047936</td>\n",
       "    </tr>\n",
       "    <tr>\n",
       "      <th>Other</th>\n",
       "      <td>0.000000</td>\n",
       "      <td>0.000000</td>\n",
       "    </tr>\n",
       "  </tbody>\n",
       "</table>\n",
       "</div>"
      ],
      "text/plain": [
       "            mean      rate\n",
       "gender                    \n",
       "Female  0.047094  0.966471\n",
       "Male    0.051064  1.047936\n",
       "Other   0.000000  0.000000"
      ]
     },
     "metadata": {},
     "output_type": "display_data"
    },
    {
     "data": {
      "text/html": [
       "<div>\n",
       "<style scoped>\n",
       "    .dataframe tbody tr th:only-of-type {\n",
       "        vertical-align: middle;\n",
       "    }\n",
       "\n",
       "    .dataframe tbody tr th {\n",
       "        vertical-align: top;\n",
       "    }\n",
       "\n",
       "    .dataframe thead th {\n",
       "        text-align: right;\n",
       "    }\n",
       "</style>\n",
       "<table border=\"1\" class=\"dataframe\">\n",
       "  <thead>\n",
       "    <tr style=\"text-align: right;\">\n",
       "      <th></th>\n",
       "      <th>mean</th>\n",
       "      <th>rate</th>\n",
       "    </tr>\n",
       "    <tr>\n",
       "      <th>hypertension</th>\n",
       "      <th></th>\n",
       "      <th></th>\n",
       "    </tr>\n",
       "  </thead>\n",
       "  <tbody>\n",
       "    <tr>\n",
       "      <th>0</th>\n",
       "      <td>0.039679</td>\n",
       "      <td>0.814298</td>\n",
       "    </tr>\n",
       "    <tr>\n",
       "      <th>1</th>\n",
       "      <td>0.132530</td>\n",
       "      <td>2.719795</td>\n",
       "    </tr>\n",
       "  </tbody>\n",
       "</table>\n",
       "</div>"
      ],
      "text/plain": [
       "                  mean      rate\n",
       "hypertension                    \n",
       "0             0.039679  0.814298\n",
       "1             0.132530  2.719795"
      ]
     },
     "metadata": {},
     "output_type": "display_data"
    },
    {
     "data": {
      "text/html": [
       "<div>\n",
       "<style scoped>\n",
       "    .dataframe tbody tr th:only-of-type {\n",
       "        vertical-align: middle;\n",
       "    }\n",
       "\n",
       "    .dataframe tbody tr th {\n",
       "        vertical-align: top;\n",
       "    }\n",
       "\n",
       "    .dataframe thead th {\n",
       "        text-align: right;\n",
       "    }\n",
       "</style>\n",
       "<table border=\"1\" class=\"dataframe\">\n",
       "  <thead>\n",
       "    <tr style=\"text-align: right;\">\n",
       "      <th></th>\n",
       "      <th>mean</th>\n",
       "      <th>rate</th>\n",
       "    </tr>\n",
       "    <tr>\n",
       "      <th>heart_disease</th>\n",
       "      <th></th>\n",
       "      <th></th>\n",
       "    </tr>\n",
       "  </thead>\n",
       "  <tbody>\n",
       "    <tr>\n",
       "      <th>0</th>\n",
       "      <td>0.041787</td>\n",
       "      <td>0.857563</td>\n",
       "    </tr>\n",
       "    <tr>\n",
       "      <th>1</th>\n",
       "      <td>0.170290</td>\n",
       "      <td>3.494703</td>\n",
       "    </tr>\n",
       "  </tbody>\n",
       "</table>\n",
       "</div>"
      ],
      "text/plain": [
       "                   mean      rate\n",
       "heart_disease                    \n",
       "0              0.041787  0.857563\n",
       "1              0.170290  3.494703"
      ]
     },
     "metadata": {},
     "output_type": "display_data"
    },
    {
     "data": {
      "text/html": [
       "<div>\n",
       "<style scoped>\n",
       "    .dataframe tbody tr th:only-of-type {\n",
       "        vertical-align: middle;\n",
       "    }\n",
       "\n",
       "    .dataframe tbody tr th {\n",
       "        vertical-align: top;\n",
       "    }\n",
       "\n",
       "    .dataframe thead th {\n",
       "        text-align: right;\n",
       "    }\n",
       "</style>\n",
       "<table border=\"1\" class=\"dataframe\">\n",
       "  <thead>\n",
       "    <tr style=\"text-align: right;\">\n",
       "      <th></th>\n",
       "      <th>mean</th>\n",
       "      <th>rate</th>\n",
       "    </tr>\n",
       "    <tr>\n",
       "      <th>ever_married</th>\n",
       "      <th></th>\n",
       "      <th></th>\n",
       "    </tr>\n",
       "  </thead>\n",
       "  <tbody>\n",
       "    <tr>\n",
       "      <th>No</th>\n",
       "      <td>0.016505</td>\n",
       "      <td>0.338725</td>\n",
       "    </tr>\n",
       "    <tr>\n",
       "      <th>Yes</th>\n",
       "      <td>0.065613</td>\n",
       "      <td>1.346513</td>\n",
       "    </tr>\n",
       "  </tbody>\n",
       "</table>\n",
       "</div>"
      ],
      "text/plain": [
       "                  mean      rate\n",
       "ever_married                    \n",
       "No            0.016505  0.338725\n",
       "Yes           0.065613  1.346513"
      ]
     },
     "metadata": {},
     "output_type": "display_data"
    },
    {
     "data": {
      "text/html": [
       "<div>\n",
       "<style scoped>\n",
       "    .dataframe tbody tr th:only-of-type {\n",
       "        vertical-align: middle;\n",
       "    }\n",
       "\n",
       "    .dataframe tbody tr th {\n",
       "        vertical-align: top;\n",
       "    }\n",
       "\n",
       "    .dataframe thead th {\n",
       "        text-align: right;\n",
       "    }\n",
       "</style>\n",
       "<table border=\"1\" class=\"dataframe\">\n",
       "  <thead>\n",
       "    <tr style=\"text-align: right;\">\n",
       "      <th></th>\n",
       "      <th>mean</th>\n",
       "      <th>rate</th>\n",
       "    </tr>\n",
       "    <tr>\n",
       "      <th>work_type</th>\n",
       "      <th></th>\n",
       "      <th></th>\n",
       "    </tr>\n",
       "  </thead>\n",
       "  <tbody>\n",
       "    <tr>\n",
       "      <th>Govt_job</th>\n",
       "      <td>0.050228</td>\n",
       "      <td>1.030790</td>\n",
       "    </tr>\n",
       "    <tr>\n",
       "      <th>Never_worked</th>\n",
       "      <td>0.000000</td>\n",
       "      <td>0.000000</td>\n",
       "    </tr>\n",
       "    <tr>\n",
       "      <th>Private</th>\n",
       "      <td>0.050940</td>\n",
       "      <td>1.045399</td>\n",
       "    </tr>\n",
       "    <tr>\n",
       "      <th>Self-employed</th>\n",
       "      <td>0.079365</td>\n",
       "      <td>1.628737</td>\n",
       "    </tr>\n",
       "    <tr>\n",
       "      <th>children</th>\n",
       "      <td>0.002911</td>\n",
       "      <td>0.059744</td>\n",
       "    </tr>\n",
       "  </tbody>\n",
       "</table>\n",
       "</div>"
      ],
      "text/plain": [
       "                   mean      rate\n",
       "work_type                        \n",
       "Govt_job       0.050228  1.030790\n",
       "Never_worked   0.000000  0.000000\n",
       "Private        0.050940  1.045399\n",
       "Self-employed  0.079365  1.628737\n",
       "children       0.002911  0.059744"
      ]
     },
     "metadata": {},
     "output_type": "display_data"
    },
    {
     "data": {
      "text/html": [
       "<div>\n",
       "<style scoped>\n",
       "    .dataframe tbody tr th:only-of-type {\n",
       "        vertical-align: middle;\n",
       "    }\n",
       "\n",
       "    .dataframe tbody tr th {\n",
       "        vertical-align: top;\n",
       "    }\n",
       "\n",
       "    .dataframe thead th {\n",
       "        text-align: right;\n",
       "    }\n",
       "</style>\n",
       "<table border=\"1\" class=\"dataframe\">\n",
       "  <thead>\n",
       "    <tr style=\"text-align: right;\">\n",
       "      <th></th>\n",
       "      <th>mean</th>\n",
       "      <th>rate</th>\n",
       "    </tr>\n",
       "    <tr>\n",
       "      <th>residence_type</th>\n",
       "      <th></th>\n",
       "      <th></th>\n",
       "    </tr>\n",
       "  </thead>\n",
       "  <tbody>\n",
       "    <tr>\n",
       "      <th>Rural</th>\n",
       "      <td>0.045346</td>\n",
       "      <td>0.930596</td>\n",
       "    </tr>\n",
       "    <tr>\n",
       "      <th>Urban</th>\n",
       "      <td>0.052003</td>\n",
       "      <td>1.067212</td>\n",
       "    </tr>\n",
       "  </tbody>\n",
       "</table>\n",
       "</div>"
      ],
      "text/plain": [
       "                    mean      rate\n",
       "residence_type                    \n",
       "Rural           0.045346  0.930596\n",
       "Urban           0.052003  1.067212"
      ]
     },
     "metadata": {},
     "output_type": "display_data"
    },
    {
     "data": {
      "text/html": [
       "<div>\n",
       "<style scoped>\n",
       "    .dataframe tbody tr th:only-of-type {\n",
       "        vertical-align: middle;\n",
       "    }\n",
       "\n",
       "    .dataframe tbody tr th {\n",
       "        vertical-align: top;\n",
       "    }\n",
       "\n",
       "    .dataframe thead th {\n",
       "        text-align: right;\n",
       "    }\n",
       "</style>\n",
       "<table border=\"1\" class=\"dataframe\">\n",
       "  <thead>\n",
       "    <tr style=\"text-align: right;\">\n",
       "      <th></th>\n",
       "      <th>mean</th>\n",
       "      <th>rate</th>\n",
       "    </tr>\n",
       "    <tr>\n",
       "      <th>smoking_status</th>\n",
       "      <th></th>\n",
       "      <th></th>\n",
       "    </tr>\n",
       "  </thead>\n",
       "  <tbody>\n",
       "    <tr>\n",
       "      <th>Unknown</th>\n",
       "      <td>0.030440</td>\n",
       "      <td>0.624701</td>\n",
       "    </tr>\n",
       "    <tr>\n",
       "      <th>formerly smoked</th>\n",
       "      <td>0.079096</td>\n",
       "      <td>1.623216</td>\n",
       "    </tr>\n",
       "    <tr>\n",
       "      <th>never smoked</th>\n",
       "      <td>0.047569</td>\n",
       "      <td>0.976209</td>\n",
       "    </tr>\n",
       "    <tr>\n",
       "      <th>smokes</th>\n",
       "      <td>0.053232</td>\n",
       "      <td>1.092431</td>\n",
       "    </tr>\n",
       "  </tbody>\n",
       "</table>\n",
       "</div>"
      ],
      "text/plain": [
       "                     mean      rate\n",
       "smoking_status                     \n",
       "Unknown          0.030440  0.624701\n",
       "formerly smoked  0.079096  1.623216\n",
       "never smoked     0.047569  0.976209\n",
       "smokes           0.053232  1.092431"
      ]
     },
     "metadata": {},
     "output_type": "display_data"
    }
   ],
   "source": [
    "# lets display the risk rate for all the groups in the cat_var list\n",
    "for col in cat_var:\n",
    "    df_group = df.groupby(col)[\"stroke\"].agg([\"mean\"])\n",
    "    df_group[\"rate\"] = df_group[\"mean\"]/stroke_avg\n",
    "    display(df_group)\n",
    "    "
   ]
  },
  {
   "cell_type": "markdown",
   "metadata": {},
   "source": [
    "> from the above results we can infer that Patients who are/were married, are male, who live in Urban areas, have smoked in past and/or present, who work (irrespective of the type viz. private, govt or self employed), who have prior history of Hypertension and Heart disease are at higher risk of Stroke (rate > 1.0)."
   ]
  },
  {
   "cell_type": "markdown",
   "metadata": {},
   "source": [
    "Let's now find out the most useful categorical features"
   ]
  },
  {
   "cell_type": "code",
   "execution_count": 26,
   "metadata": {},
   "outputs": [
    {
     "data": {
      "text/plain": [
       "gender            0.000051\n",
       "residence_type    0.000120\n",
       "smoking_status    0.002750\n",
       "heart_disease     0.005897\n",
       "hypertension      0.005976\n",
       "work_type         0.006825\n",
       "ever_married      0.006950\n",
       "dtype: float64"
      ]
     },
     "execution_count": 26,
     "metadata": {},
     "output_type": "execute_result"
    }
   ],
   "source": [
    "# write a function to calculate mutual info score using the mutual _info_score function from Scikit-learn\n",
    "def calc_mutual_info(series):\n",
    "    \"\"\"\n",
    "    Retuns Mutual information, a non-negative value, measured in nats using the natural logarithm.\n",
    "    Param: feature names in the form of series for comparison\n",
    "    Retuns Mutual info score of each categorical features against our target variable Stroke.\n",
    "    \"\"\"                                      \n",
    "    return mutual_info_score(series, df[\"stroke\"])     \n",
    "\n",
    "# apply the newly created cal_mutual_info on each categorical feature of the data frame \n",
    "mutual_info = df[cat_var].apply(calc_mutual_info) \n",
    "mutual_info.sort_values()"
   ]
  },
  {
   "cell_type": "markdown",
   "metadata": {},
   "source": [
    "> Of all the categorical features , except gender, residence_type, smoking_status (which are the least useful features) rest all are more useful features for our model. where the most useful amongst them all seems to be work_type and ever_married."
   ]
  },
  {
   "cell_type": "markdown",
   "metadata": {},
   "source": [
    "Now let's look at how the numerical features are corelated with Stroke"
   ]
  },
  {
   "cell_type": "code",
   "execution_count": 27,
   "metadata": {},
   "outputs": [
    {
     "data": {
      "text/plain": [
       "<AxesSubplot:>"
      ]
     },
     "execution_count": 27,
     "metadata": {},
     "output_type": "execute_result"
    },
    {
     "data": {
      "image/png": "[encoded data removed]",
      "text/plain": [
       "<Figure size 432x288 with 2 Axes>"
      ]
     },
     "metadata": {
      "needs_background": "light"
     },
     "output_type": "display_data"
    }
   ],
   "source": [
    "corr=df.corr()\n",
    "sns.heatmap(corr,cmap=\"Greens\",annot=True)"
   ]
  },
  {
   "cell_type": "markdown",
   "metadata": {},
   "source": [
    "> Age, Avg_Glucose_Level and BMI all have a positive corelation with Stroke; as the values for these features go up the Stroke rate goes up."
   ]
  },
  {
   "cell_type": "markdown",
   "metadata": {},
   "source": [
    "## Data Prep\n",
    "<a class=\"anchor\" id=\"prep\"></a>\n",
    "After having a look at the data and finding out what can be useful for the model. Now we have a clear understanding on how other variables affect the target variable - Stroke. \n",
    "\n",
    "We now need to perform data prep steps; transforming all categorical variables to numeric features to prepare the data for ML model. "
   ]
  },
  {
   "cell_type": "markdown",
   "metadata": {},
   "source": [
    "#### Feature Extraction\n",
    "<a class=\"anchor\" id=\"fext\"></a>"
   ]
  },
  {
   "cell_type": "markdown",
   "metadata": {},
   "source": [
    "> ##### One-Hot Encoding\n",
    "> One hot encoding is one method of converting data to prepare it for an algorithm and get a better prediction. With one-hot, we can convert each categorical value into a new categorical column and assign a binary value of 1 or 0 to those columns. Each integer value is represented as a binary vector. All the values are zero, and the index is marked with a 1."
   ]
  },
  {
   "cell_type": "code",
   "execution_count": 28,
   "metadata": {},
   "outputs": [
    {
     "data": {
      "text/html": [
       "<div>\n",
       "<style scoped>\n",
       "    .dataframe tbody tr th:only-of-type {\n",
       "        vertical-align: middle;\n",
       "    }\n",
       "\n",
       "    .dataframe tbody tr th {\n",
       "        vertical-align: top;\n",
       "    }\n",
       "\n",
       "    .dataframe thead th {\n",
       "        text-align: right;\n",
       "    }\n",
       "</style>\n",
       "<table border=\"1\" class=\"dataframe\">\n",
       "  <thead>\n",
       "    <tr style=\"text-align: right;\">\n",
       "      <th></th>\n",
       "      <th>age</th>\n",
       "      <th>hypertension</th>\n",
       "      <th>heart_disease</th>\n",
       "      <th>ever_married</th>\n",
       "      <th>residence_type</th>\n",
       "      <th>avg_glucose_level</th>\n",
       "      <th>bmi</th>\n",
       "      <th>stroke</th>\n",
       "      <th>work_type_Govt_job</th>\n",
       "      <th>work_type_Never_worked</th>\n",
       "      <th>work_type_Private</th>\n",
       "      <th>work_type_Self-employed</th>\n",
       "      <th>work_type_children</th>\n",
       "      <th>smoking_status_Unknown</th>\n",
       "      <th>smoking_status_formerly smoked</th>\n",
       "      <th>smoking_status_never smoked</th>\n",
       "      <th>smoking_status_smokes</th>\n",
       "      <th>gender_Female</th>\n",
       "      <th>gender_Male</th>\n",
       "      <th>gender_Other</th>\n",
       "    </tr>\n",
       "  </thead>\n",
       "  <tbody>\n",
       "    <tr>\n",
       "      <th>0</th>\n",
       "      <td>67.0</td>\n",
       "      <td>0</td>\n",
       "      <td>1</td>\n",
       "      <td>1</td>\n",
       "      <td>1</td>\n",
       "      <td>228.69</td>\n",
       "      <td>36.6</td>\n",
       "      <td>1</td>\n",
       "      <td>0</td>\n",
       "      <td>0</td>\n",
       "      <td>1</td>\n",
       "      <td>0</td>\n",
       "      <td>0</td>\n",
       "      <td>0</td>\n",
       "      <td>1</td>\n",
       "      <td>0</td>\n",
       "      <td>0</td>\n",
       "      <td>0</td>\n",
       "      <td>1</td>\n",
       "      <td>0</td>\n",
       "    </tr>\n",
       "    <tr>\n",
       "      <th>1</th>\n",
       "      <td>61.0</td>\n",
       "      <td>0</td>\n",
       "      <td>0</td>\n",
       "      <td>1</td>\n",
       "      <td>0</td>\n",
       "      <td>202.21</td>\n",
       "      <td>28.4</td>\n",
       "      <td>1</td>\n",
       "      <td>0</td>\n",
       "      <td>0</td>\n",
       "      <td>0</td>\n",
       "      <td>1</td>\n",
       "      <td>0</td>\n",
       "      <td>0</td>\n",
       "      <td>0</td>\n",
       "      <td>1</td>\n",
       "      <td>0</td>\n",
       "      <td>1</td>\n",
       "      <td>0</td>\n",
       "      <td>0</td>\n",
       "    </tr>\n",
       "    <tr>\n",
       "      <th>2</th>\n",
       "      <td>80.0</td>\n",
       "      <td>0</td>\n",
       "      <td>1</td>\n",
       "      <td>1</td>\n",
       "      <td>0</td>\n",
       "      <td>105.92</td>\n",
       "      <td>32.5</td>\n",
       "      <td>1</td>\n",
       "      <td>0</td>\n",
       "      <td>0</td>\n",
       "      <td>1</td>\n",
       "      <td>0</td>\n",
       "      <td>0</td>\n",
       "      <td>0</td>\n",
       "      <td>0</td>\n",
       "      <td>1</td>\n",
       "      <td>0</td>\n",
       "      <td>0</td>\n",
       "      <td>1</td>\n",
       "      <td>0</td>\n",
       "    </tr>\n",
       "    <tr>\n",
       "      <th>3</th>\n",
       "      <td>49.0</td>\n",
       "      <td>0</td>\n",
       "      <td>0</td>\n",
       "      <td>1</td>\n",
       "      <td>1</td>\n",
       "      <td>171.23</td>\n",
       "      <td>34.4</td>\n",
       "      <td>1</td>\n",
       "      <td>0</td>\n",
       "      <td>0</td>\n",
       "      <td>1</td>\n",
       "      <td>0</td>\n",
       "      <td>0</td>\n",
       "      <td>0</td>\n",
       "      <td>0</td>\n",
       "      <td>0</td>\n",
       "      <td>1</td>\n",
       "      <td>1</td>\n",
       "      <td>0</td>\n",
       "      <td>0</td>\n",
       "    </tr>\n",
       "    <tr>\n",
       "      <th>4</th>\n",
       "      <td>79.0</td>\n",
       "      <td>1</td>\n",
       "      <td>0</td>\n",
       "      <td>1</td>\n",
       "      <td>0</td>\n",
       "      <td>174.12</td>\n",
       "      <td>24.0</td>\n",
       "      <td>1</td>\n",
       "      <td>0</td>\n",
       "      <td>0</td>\n",
       "      <td>0</td>\n",
       "      <td>1</td>\n",
       "      <td>0</td>\n",
       "      <td>0</td>\n",
       "      <td>0</td>\n",
       "      <td>1</td>\n",
       "      <td>0</td>\n",
       "      <td>1</td>\n",
       "      <td>0</td>\n",
       "      <td>0</td>\n",
       "    </tr>\n",
       "  </tbody>\n",
       "</table>\n",
       "</div>"
      ],
      "text/plain": [
       "    age  hypertension  heart_disease  ever_married  residence_type  \\\n",
       "0  67.0             0              1             1               1   \n",
       "1  61.0             0              0             1               0   \n",
       "2  80.0             0              1             1               0   \n",
       "3  49.0             0              0             1               1   \n",
       "4  79.0             1              0             1               0   \n",
       "\n",
       "   avg_glucose_level   bmi  stroke  work_type_Govt_job  \\\n",
       "0             228.69  36.6       1                   0   \n",
       "1             202.21  28.4       1                   0   \n",
       "2             105.92  32.5       1                   0   \n",
       "3             171.23  34.4       1                   0   \n",
       "4             174.12  24.0       1                   0   \n",
       "\n",
       "   work_type_Never_worked  work_type_Private  work_type_Self-employed  \\\n",
       "0                       0                  1                        0   \n",
       "1                       0                  0                        1   \n",
       "2                       0                  1                        0   \n",
       "3                       0                  1                        0   \n",
       "4                       0                  0                        1   \n",
       "\n",
       "   work_type_children  smoking_status_Unknown  smoking_status_formerly smoked  \\\n",
       "0                   0                       0                               1   \n",
       "1                   0                       0                               0   \n",
       "2                   0                       0                               0   \n",
       "3                   0                       0                               0   \n",
       "4                   0                       0                               0   \n",
       "\n",
       "   smoking_status_never smoked  smoking_status_smokes  gender_Female  \\\n",
       "0                            0                      0              0   \n",
       "1                            1                      0              1   \n",
       "2                            1                      0              0   \n",
       "3                            0                      1              1   \n",
       "4                            1                      0              1   \n",
       "\n",
       "   gender_Male  gender_Other  \n",
       "0            1             0  \n",
       "1            0             0  \n",
       "2            1             0  \n",
       "3            0             0  \n",
       "4            0             0  "
      ]
     },
     "execution_count": 28,
     "metadata": {},
     "output_type": "execute_result"
    }
   ],
   "source": [
    "# Now let's apply One Hot Encoding technique and get new categorical feature columns\n",
    "df_upd = pd.get_dummies(df, columns=['work_type', 'smoking_status', 'gender'])\n",
    "df_upd.drop(columns=['id'], inplace=True)\n",
    "\n",
    "df_upd.replace(to_replace=\"Urban\", value=1, inplace=True)\n",
    "df_upd.replace(to_replace=\"Rural\", value=0, inplace=True)\n",
    "\n",
    "df_upd.replace(to_replace=\"Yes\", value=1, inplace=True)\n",
    "df_upd.replace(to_replace=\"No\", value=0, inplace=True)\n",
    "df_upd.head()"
   ]
  },
  {
   "cell_type": "code",
   "execution_count": 29,
   "metadata": {},
   "outputs": [
    {
     "name": "stdout",
     "output_type": "stream",
     "text": [
      "<class 'pandas.core.frame.DataFrame'>\n",
      "RangeIndex: 5110 entries, 0 to 5109\n",
      "Data columns (total 20 columns):\n",
      " #   Column                          Non-Null Count  Dtype  \n",
      "---  ------                          --------------  -----  \n",
      " 0   age                             5110 non-null   float64\n",
      " 1   hypertension                    5110 non-null   int64  \n",
      " 2   heart_disease                   5110 non-null   int64  \n",
      " 3   ever_married                    5110 non-null   int64  \n",
      " 4   residence_type                  5110 non-null   int64  \n",
      " 5   avg_glucose_level               5110 non-null   float64\n",
      " 6   bmi                             5110 non-null   float64\n",
      " 7   stroke                          5110 non-null   int64  \n",
      " 8   work_type_Govt_job              5110 non-null   uint8  \n",
      " 9   work_type_Never_worked          5110 non-null   uint8  \n",
      " 10  work_type_Private               5110 non-null   uint8  \n",
      " 11  work_type_Self-employed         5110 non-null   uint8  \n",
      " 12  work_type_children              5110 non-null   uint8  \n",
      " 13  smoking_status_Unknown          5110 non-null   uint8  \n",
      " 14  smoking_status_formerly smoked  5110 non-null   uint8  \n",
      " 15  smoking_status_never smoked     5110 non-null   uint8  \n",
      " 16  smoking_status_smokes           5110 non-null   uint8  \n",
      " 17  gender_Female                   5110 non-null   uint8  \n",
      " 18  gender_Male                     5110 non-null   uint8  \n",
      " 19  gender_Other                    5110 non-null   uint8  \n",
      "dtypes: float64(3), int64(5), uint8(12)\n",
      "memory usage: 379.4 KB\n"
     ]
    }
   ],
   "source": [
    "#Checking the structure of the newly formed df\n",
    "df_upd.info()"
   ]
  },
  {
   "cell_type": "code",
   "execution_count": 30,
   "metadata": {},
   "outputs": [],
   "source": [
    "# Now lets extract the Features and our Prediction Target from our DF, and convert them into a numpy array\n",
    "stroke_features = ['age', 'hypertension', 'heart_disease', 'ever_married',\n",
    "       'residence_type', 'avg_glucose_level', 'bmi',\n",
    "       'work_type_Govt_job', 'work_type_Never_worked', 'work_type_Private',\n",
    "       'work_type_Self-employed', 'work_type_children',\n",
    "       'smoking_status_Unknown', 'smoking_status_formerly smoked',\n",
    "       'smoking_status_never smoked', 'smoking_status_smokes', 'gender_Female',\n",
    "       'gender_Male', 'gender_Other']\n",
    "\n",
    "yData = df_upd.stroke.to_numpy()\n",
    "XData = df_upd[stroke_features].to_numpy()"
   ]
  },
  {
   "cell_type": "code",
   "execution_count": 31,
   "metadata": {},
   "outputs": [
    {
     "data": {
      "text/plain": [
       "((5110, 19), (5110,))"
      ]
     },
     "execution_count": 31,
     "metadata": {},
     "output_type": "execute_result"
    }
   ],
   "source": [
    "# Let's now make the data types consistent across the board and check for the shapes of each of datasets.\n",
    "XData = XData.astype(np.float32)\n",
    "yData = yData.astype(np.float32)\n",
    "XData.shape, yData.shape\n"
   ]
  },
  {
   "cell_type": "code",
   "execution_count": 32,
   "metadata": {},
   "outputs": [
    {
     "name": "stdout",
     "output_type": "stream",
     "text": [
      "[1. 1. 1. ... 0. 0. 0.]\n",
      "[[67.  0.  1. ...  0.  1.  0.]\n",
      " [61.  0.  0. ...  1.  0.  0.]\n",
      " [80.  0.  1. ...  0.  1.  0.]\n",
      " ...\n",
      " [35.  0.  0. ...  1.  0.  0.]\n",
      " [51.  0.  0. ...  0.  1.  0.]\n",
      " [44.  0.  0. ...  1.  0.  0.]]\n",
      "[ 67.     0.     1.     1.     1.   228.69  36.6    0.     0.     1.\n",
      "   0.     0.     0.     1.     0.     0.     0.     1.     0.  ]\n"
     ]
    }
   ],
   "source": [
    "#Lets see the actual values in each of the datasets\n",
    "print(yData)\n",
    "print(XData)\n",
    "print(XData[0])"
   ]
  },
  {
   "cell_type": "markdown",
   "metadata": {},
   "source": [
    "> All the values are now 0's and 1's except for the 3 categorical variables. Age , Avg_Glucose_level and BMI columns haven't changed because they are numerical variables "
   ]
  },
  {
   "cell_type": "markdown",
   "metadata": {},
   "source": [
    "##### Split the Data in Train, Validation/Test splits\n",
    "<a class=\"anchor\" id=\"ttsplit\"></a>\n"
   ]
  },
  {
   "cell_type": "code",
   "execution_count": 33,
   "metadata": {},
   "outputs": [],
   "source": [
    "# Using Sklearn train_test_split function to split the updated dataframe into train and val splits at a val size of 30% \n",
    "train_X, val_X, train_y, val_y=train_test_split(XData, yData, test_size=0.30, random_state=8)\n"
   ]
  },
  {
   "cell_type": "code",
   "execution_count": 34,
   "metadata": {},
   "outputs": [
    {
     "data": {
      "text/plain": [
       "30.0"
      ]
     },
     "execution_count": 34,
     "metadata": {},
     "output_type": "execute_result"
    }
   ],
   "source": [
    "# checking to see if the val split is at 30% of the XData dataframe\n",
    "(val_X.shape[0]/XData.shape[0])*100"
   ]
  },
  {
   "cell_type": "code",
   "execution_count": 35,
   "metadata": {},
   "outputs": [
    {
     "data": {
      "text/plain": [
       "((3577, 19), (1533, 19))"
      ]
     },
     "execution_count": 35,
     "metadata": {},
     "output_type": "execute_result"
    }
   ],
   "source": [
    "# checking the shape of train and test splits\n",
    "train_X.shape, val_X.shape\n"
   ]
  },
  {
   "cell_type": "code",
   "execution_count": 36,
   "metadata": {},
   "outputs": [
    {
     "data": {
      "text/plain": [
       "((3577,), (1533,))"
      ]
     },
     "execution_count": 36,
     "metadata": {},
     "output_type": "execute_result"
    }
   ],
   "source": [
    "# checking the shape of train and test splits\n",
    "train_y.shape, val_y.shape\n"
   ]
  },
  {
   "cell_type": "markdown",
   "metadata": {},
   "source": [
    "> now that we have a train and a test split, lets confirm few values in our train and validation sets"
   ]
  },
  {
   "cell_type": "code",
   "execution_count": 37,
   "metadata": {},
   "outputs": [
    {
     "data": {
      "text/plain": [
       "array([0., 1., 0., ..., 0., 0., 0.], dtype=float32)"
      ]
     },
     "execution_count": 37,
     "metadata": {},
     "output_type": "execute_result"
    }
   ],
   "source": [
    "# checking values in train_y\n",
    "train_y"
   ]
  },
  {
   "cell_type": "code",
   "execution_count": 38,
   "metadata": {},
   "outputs": [
    {
     "data": {
      "text/plain": [
       "array([0., 0., 0., ..., 0., 1., 0.], dtype=float32)"
      ]
     },
     "execution_count": 38,
     "metadata": {},
     "output_type": "execute_result"
    }
   ],
   "source": [
    "# checking values in val_y\n",
    "val_y"
   ]
  },
  {
   "cell_type": "code",
   "execution_count": 39,
   "metadata": {},
   "outputs": [
    {
     "data": {
      "text/plain": [
       "array([51.  ,  0.  ,  0.  ,  1.  ,  1.  , 81.38, 34.1 ,  1.  ,  0.  ,\n",
       "        0.  ,  0.  ,  0.  ,  0.  ,  0.  ,  0.  ,  1.  ,  1.  ,  0.  ,\n",
       "        0.  ], dtype=float32)"
      ]
     },
     "execution_count": 39,
     "metadata": {},
     "output_type": "execute_result"
    }
   ],
   "source": [
    "# checking values in val_X\n",
    "val_X[1]"
   ]
  },
  {
   "cell_type": "code",
   "execution_count": 40,
   "metadata": {},
   "outputs": [
    {
     "data": {
      "text/plain": [
       "array([ 59.  ,   0.  ,   0.  ,   1.  ,   0.  , 211.78,  26.5 ,   0.  ,\n",
       "         0.  ,   1.  ,   0.  ,   0.  ,   0.  ,   1.  ,   0.  ,   0.  ,\n",
       "         0.  ,   1.  ,   0.  ], dtype=float32)"
      ]
     },
     "execution_count": 40,
     "metadata": {},
     "output_type": "execute_result"
    }
   ],
   "source": [
    "# checking values in train_X\n",
    "train_X[1]"
   ]
  },
  {
   "cell_type": "markdown",
   "metadata": {},
   "source": [
    "## Modeling\n",
    "<a class=\"anchor\" id=\"model\"></a>\n",
    "After prepping the data by using Scikit-learn to perform one-hot encoding for categotrical variables, and splitting the dataset into Train and Validation, we are now ready to build a ML model with the data.\n",
    "\n",
    "Since our problem is a binary classification in which we are predicting if a patient is likley to have a Stroke or not, we will put the following classification algorithms to test: \n",
    "\n",
    "* Logisitic regression - avoids overfitting, good explainability and efficient to train\n",
    "* Support Vector Machine - most popular, reliable supervised ML model for Classification problems which also help reduce redundancy.\n",
    "* Naive Bayes - easy and fast implementation\n",
    "* KNN (K-Nearest Neighbors) - simple and most widely used for Classification problems in Data science Industry.\n",
    "* Random Forest Classifier - ensemble method, avoids overfitting and deals well with imbalanced datasets like ours.\n",
    "\n"
   ]
  },
  {
   "cell_type": "code",
   "execution_count": 41,
   "metadata": {},
   "outputs": [
    {
     "name": "stdout",
     "output_type": "stream",
     "text": [
      "Model: RandomForestClassifier(random_state=1)\n",
      "Time taken to train (seconds):  0.8373808860778809\n",
      "Accuracy:  0.9478147423352903\n",
      "Score:  1.0 \n",
      "\n",
      "Model: SVC()\n",
      "Time taken to train (seconds):  0.35265064239501953\n",
      "Accuracy:  0.9504240052185258\n",
      "Score:  0.9516354487000279 \n",
      "\n",
      "Model: KNeighborsClassifier(n_neighbors=10)\n",
      "Time taken to train (seconds):  0.001998424530029297\n",
      "Accuracy:  0.9497716894977168\n",
      "Score:  0.9516354487000279 \n",
      "\n",
      "Model: GaussianNB()\n",
      "Time taken to train (seconds):  0.0029981136322021484\n",
      "Accuracy:  0.36007827788649704\n",
      "Score:  0.3707017053396701 \n",
      "\n",
      "Model: LogisticRegression(max_iter=1000, random_state=8)\n",
      "Time taken to train (seconds):  1.3703022003173828\n",
      "Accuracy:  0.9497716894977168\n",
      "Score:  0.9516354487000279 \n",
      "\n"
     ]
    }
   ],
   "source": [
    "# Instantiate all the models in use\n",
    "lgr = LogisticRegression(solver='lbfgs',random_state=8, max_iter=1000, penalty = 'l2')\n",
    "rfc = RandomForestClassifier(random_state=1)\n",
    "nbc = GaussianNB()\n",
    "knnc = KNeighborsClassifier(10) \n",
    "svmc = SVC()\n",
    "\n",
    "# keep model objects here \n",
    "models =[rfc,svmc,knnc,nbc,lgr]\n",
    "\n",
    "# loop thru all the elements in the models list\n",
    "for mdl in models:\n",
    "    print(\"Model:\", mdl)\n",
    "    start = time.time() #Start time of the Model\n",
    "    mdl.fit(train_X, train_y) #fit using the train data\n",
    "    end = time.time() #End time of the Model\n",
    "    print(\"Time taken to train (seconds): \", end - start)\n",
    "    val_predictions = mdl.predict(val_X) #Prediction of Target with the Model\n",
    "    print(\"Accuracy: \",metrics.accuracy_score(val_y, val_predictions))\n",
    "    print(\"Score: \",mdl.score(train_X, train_y),'\\n')   \n"
   ]
  },
  {
   "cell_type": "markdown",
   "metadata": {},
   "source": [
    "> Out of the above estimators the Support Vector Machine and Random Forest classifier delivered best results in terms of time taken to complete, Accuracy and scores."
   ]
  },
  {
   "cell_type": "code",
   "execution_count": 42,
   "metadata": {},
   "outputs": [
    {
     "data": {
      "image/png": "[encoded data removed]",
      "text/plain": [
       "<Figure size 864x576 with 1 Axes>"
      ]
     },
     "metadata": {
      "needs_background": "light"
     },
     "output_type": "display_data"
    }
   ],
   "source": [
    "# Lets compare the initial results of the Model Performances we recieved \n",
    "model_performance = pd.DataFrame(data={'Model': ['RF','SVC','LogisticRegression','KNN','NB'], \n",
    "'Score': [ rfc.score(val_X, val_y), svmc.score(val_X, val_y), lgr.score(val_X, val_y), knnc.score(val_X, val_y), nbc.score(val_X, val_y)]})\n",
    "\n",
    "plt.figure(figsize=(12, 8))\n",
    "sns.barplot(x=\"Model\", y=\"Score\", data=model_performance, palette=\"magma\")\n",
    "plt.title('Performance Analysis of ML Models')\n",
    "plt.show()"
   ]
  },
  {
   "cell_type": "markdown",
   "metadata": {},
   "source": [
    "> Again based on the pictorial representation of the scores of the all the above estimators, The Naive-Bayes Classifier recieved the lowest Score. The Support Vector Machine and Random Forest classifier delivered best results in terms of time taken to complete, Accuracy and scores. So lets go with these estimators for further steps, where we tune these models to perform even better."
   ]
  },
  {
   "cell_type": "markdown",
   "metadata": {},
   "source": [
    "Model Tuning"
   ]
  },
  {
   "cell_type": "code",
   "execution_count": 43,
   "metadata": {},
   "outputs": [
    {
     "data": {
      "text/plain": [
       "{'bootstrap': True,\n",
       " 'ccp_alpha': 0.0,\n",
       " 'class_weight': None,\n",
       " 'criterion': 'gini',\n",
       " 'max_depth': None,\n",
       " 'max_features': 'sqrt',\n",
       " 'max_leaf_nodes': None,\n",
       " 'max_samples': None,\n",
       " 'min_impurity_decrease': 0.0,\n",
       " 'min_samples_leaf': 1,\n",
       " 'min_samples_split': 2,\n",
       " 'min_weight_fraction_leaf': 0.0,\n",
       " 'n_estimators': 100,\n",
       " 'n_jobs': None,\n",
       " 'oob_score': False,\n",
       " 'random_state': 1,\n",
       " 'verbose': 0,\n",
       " 'warm_start': False}"
      ]
     },
     "execution_count": 43,
     "metadata": {},
     "output_type": "execute_result"
    }
   ],
   "source": [
    "# lets see what paramters we can tune for Random Forest Classifier\n",
    "rfc.get_params()"
   ]
  },
  {
   "cell_type": "markdown",
   "metadata": {},
   "source": [
    "> Looks like we can use n_estimators and max_leaf_nodes parameters here."
   ]
  },
  {
   "cell_type": "code",
   "execution_count": 44,
   "metadata": {},
   "outputs": [
    {
     "data": {
      "text/plain": [
       "{'C': 1.0,\n",
       " 'break_ties': False,\n",
       " 'cache_size': 200,\n",
       " 'class_weight': None,\n",
       " 'coef0': 0.0,\n",
       " 'decision_function_shape': 'ovr',\n",
       " 'degree': 3,\n",
       " 'gamma': 'scale',\n",
       " 'kernel': 'rbf',\n",
       " 'max_iter': -1,\n",
       " 'probability': False,\n",
       " 'random_state': None,\n",
       " 'shrinking': True,\n",
       " 'tol': 0.001,\n",
       " 'verbose': False}"
      ]
     },
     "execution_count": 44,
     "metadata": {},
     "output_type": "execute_result"
    }
   ],
   "source": [
    "# Now lets also see what paramters we can tune for Support Vector Machine\n",
    "svmc.get_params()"
   ]
  },
  {
   "cell_type": "markdown",
   "metadata": {},
   "source": [
    "> And in here we can use C, kernel and max_iter parameters."
   ]
  },
  {
   "cell_type": "code",
   "execution_count": 45,
   "metadata": {},
   "outputs": [],
   "source": [
    "# Let's create a parameter grid and use it to store various parameter values for Random Forest classifier\n",
    "param_grid1 = [    \n",
    "    {'max_leaf_nodes': [5,10, 25, 50, 100],\n",
    "     'n_estimators': [10,20,50,100]\n",
    "    }\n",
    "]"
   ]
  },
  {
   "cell_type": "code",
   "execution_count": 46,
   "metadata": {},
   "outputs": [],
   "source": [
    "# Now let's create a parameter grid and use it to store various parameter values for Support Vector Machine classifier\n",
    "param_grid2 = [    \n",
    "    {'C' : [100, 10, 1.0, 0.1, 0.01],\n",
    "    'kernel' : ['linear', 'rbf', 'poly', 'sigmoid',],\n",
    "    'max_iter' : [-1, 1, 10, 100]  \n",
    "    }\n",
    "]"
   ]
  },
  {
   "cell_type": "code",
   "execution_count": 47,
   "metadata": {},
   "outputs": [],
   "source": [
    "# create an instance of GridSearchCV to perform an exhaustive search over the specified paramater values for RFC & SVC. Using 5 fold CV. \n",
    "clf1 = GridSearchCV(rfc, param_grid = param_grid1, cv = 5, n_jobs=-1, verbose=True,scoring=\"accuracy\")\n",
    "clf2 = GridSearchCV(svmc, param_grid = param_grid2, cv = 5, n_jobs=-1, verbose=5,scoring=\"accuracy\")"
   ]
  },
  {
   "cell_type": "code",
   "execution_count": 48,
   "metadata": {},
   "outputs": [
    {
     "name": "stdout",
     "output_type": "stream",
     "text": [
      "Fitting 5 folds for each of 20 candidates, totalling 100 fits\n",
      "Fitting 5 folds for each of 80 candidates, totalling 400 fits\n"
     ]
    }
   ],
   "source": [
    "# fit train data \n",
    "best_classifier1 = clf1.fit(train_X,train_y)\n",
    "best_classifier2 = clf2.fit(train_X,train_y)"
   ]
  },
  {
   "cell_type": "code",
   "execution_count": 49,
   "metadata": {},
   "outputs": [
    {
     "name": "stdout",
     "output_type": "stream",
     "text": [
      "Best: 0.951636 using {'max_leaf_nodes': 10, 'n_estimators': 10}\n",
      "Best: 0.951636 using {'C': 100, 'kernel': 'linear', 'max_iter': -1}\n"
     ]
    }
   ],
   "source": [
    "# print the best score  and the best paramaters \n",
    "print(\"Best: %f using %s\" % (best_classifier1.best_score_, best_classifier1.best_params_))\n",
    "print(\"Best: %f using %s\" % (best_classifier2.best_score_, best_classifier2.best_params_))"
   ]
  },
  {
   "cell_type": "markdown",
   "metadata": {},
   "source": [
    "> Turns out our best model for the both types ML models, achieved an accuracy of 0.95. Accuracy means the number of accurate predictions out of all the predictions. From the above results , we are able to accurately predict the 95 correct stroke risks out of 100 total Stroke predictions using Random Forest Classifier with max leaf nodes of 10 , n_estimators of 10; and Support Vector Machine estimator with max iteration of -1 , C of 100, and a linear kernel.  "
   ]
  },
  {
   "cell_type": "code",
   "execution_count": 50,
   "metadata": {},
   "outputs": [
    {
     "data": {
      "image/png": "[encoded data removed]",
      "text/plain": [
       "<Figure size 1152x1008 with 4 Axes>"
      ]
     },
     "metadata": {
      "needs_background": "light"
     },
     "output_type": "display_data"
    }
   ],
   "source": [
    "# lets see the confusion matrix using the best classifier's best estimator \n",
    "y_pred1 = best_classifier1.best_estimator_.predict(val_X)\n",
    "y_pred2 = best_classifier2.best_estimator_.predict(val_X)\n",
    "\n",
    "# heat map using sns and scikitlearn's confusion_matrix function\n",
    "plt.figure(figsize=(16, 14))\n",
    "plt.subplot(3, 3, 1)\n",
    "ax1 = sns.heatmap(confusion_matrix(val_y, y_pred1), annot=True, fmt='', cmap='Blues')\n",
    "plt.subplot(3, 3, 2)\n",
    "ax2 = sns.heatmap(confusion_matrix(val_y, y_pred2), annot=True, fmt='', cmap='Blues')\n",
    "\n",
    "ax1.set_title('RFC Confusion Matrix\\n\\n');\n",
    "ax1.set_xlabel('\\nPredicted Values')\n",
    "ax1.set_ylabel('Actual Values ');\n",
    "\n",
    "ax2.set_title('SVC Confusion Matrix\\n\\n');\n",
    "ax2.set_xlabel('\\nPredicted Values')\n",
    "ax2.set_ylabel('Actual Values ');\n",
    "\n",
    "## Ticket labels - List must be in alphabetical order\n",
    "ax1.xaxis.set_ticklabels(['True','False'])\n",
    "ax1.yaxis.set_ticklabels(['True','False'])\n",
    "\n",
    "ax2.xaxis.set_ticklabels(['True','False'])\n",
    "ax2.yaxis.set_ticklabels(['True','False'])\n",
    "\n",
    "## Display the visualization of the Confusion Matrix.\n",
    "plt.show();"
   ]
  },
  {
   "cell_type": "markdown",
   "metadata": {},
   "source": [
    "> In both the models, there are \n",
    ">  * 1457 true positives (predicted positive and it’s true) ,\n",
    ">  * 0 true negatives (predicted negative and it’s true), \n",
    ">  * 0 false positives (predicted positive and it’s false) \n",
    ">  * and 76 false negatives (You predicted negative and it’s false)"
   ]
  },
  {
   "cell_type": "markdown",
   "metadata": {},
   "source": [
    "Best Estimator Feature Importance"
   ]
  },
  {
   "cell_type": "code",
   "execution_count": 51,
   "metadata": {},
   "outputs": [
    {
     "data": {
      "text/plain": [
       "19"
      ]
     },
     "execution_count": 51,
     "metadata": {},
     "output_type": "execute_result"
    }
   ],
   "source": [
    "# get importance\n",
    "feature_importance = best_classifier2.best_estimator_.coef_[0]\n",
    "len(feature_importance)"
   ]
  },
  {
   "cell_type": "code",
   "execution_count": 52,
   "metadata": {},
   "outputs": [
    {
     "data": {
      "image/png": "[encoded data removed]",
      "text/plain": [
       "<Figure size 432x288 with 1 Axes>"
      ]
     },
     "metadata": {
      "needs_background": "light"
     },
     "output_type": "display_data"
    }
   ],
   "source": [
    "# plot feature importance\n",
    "plt.bar([x for x in range(len(feature_importance))], feature_importance)\n",
    "plt.show();"
   ]
  },
  {
   "cell_type": "markdown",
   "metadata": {},
   "source": [
    ">  Notice that the coefficients are both positive and negative. We have a total of 19 features and the positive scores indicate a feature that predicts class 1, whereas the negative scores indicate a feature that predicts class 0. No clear pattern of important and unimportant features can be identified from the above visualization"
   ]
  },
  {
   "cell_type": "markdown",
   "metadata": {},
   "source": [
    "## Conclusion\n",
    "<a class=\"anchor\" id=\"conclude\"></a>\n",
    "\n",
    "In conclusion, we used the Stroke Prediction data set from kaggle,\n",
    "* after loading and cleaning the data, \n",
    "* we explored the dataset to see the risk ratio , mutual info , corelation of various feature to the target variable. \n",
    "* we also prepared the data along the way, by converting datatypes to more suitable types, imputing values, and applying One-Hot encoding. \n",
    "* We then looked at various estimators to solve the binary classification problem, Random Forest and Support Vector Machine both gave the best accuracy among all the estimators we chose. \n",
    "* We tuned the model and achieved an accuracy of 95% for both Random Forest and Support Vector Classifier. \n",
    "\n",
    "We could also increase the accuracy by testing the data with other estimators (like K-Nearest Neighbor) and use only specific features that are more important than others. "
   ]
  },
  {
   "cell_type": "markdown",
   "metadata": {},
   "source": [
    "References\n",
    "\n",
    "https://www.kaggle.com/datasets/fedesoriano/stroke-prediction-dataset</br>\n",
    "https://www.simplilearn.com/10-algorithms-machine-learning-engineers-need-to-know-article </br>\n",
    "https://www.simplilearn.com/tutorials/machine-learning-tutorial/random-forest-algorithm</br>\n",
    "https://scikit-learn.org/stable/modules/svm.html</br>\n",
    "https://scikit-learn.org/stable/modules/generated/sklearn.linear_model.LogisticRegression.html </br>\n",
    "https://scikit-learn.org/stable/modules/preprocessing.html </br>\n",
    "https://scikit-learn.org/stable/modules/linear_model.html#logistic-regression</br>\n",
    "https://machinelearningmastery.com/hyperparameters-for-classification-machine-learning-algorithms/ </br>\n",
    "https://machinelearningmastery.com/hyperparameters-for-classification-machine-learning-algorithms/ </br>\n",
    "https://machinelearningmastery.com/calculate-feature-importance-with-python/ </br>\n",
    "https://www.stackvidhya.com/plot-confusion-matrix-in-python-and-why/#:~:text=Plot%20Confusion%20Matrix%20for%20Binary%20Classes%20With%20Labels&text=You%20need%20to%20create%20a,matrix%20with%20the%20labels%20annotation </br>\n",
    "https://stackoverflow.com/questions/31511997/pandas-dataframe-replace-all-values-in-a-column-based-on-condition </br>\n",
    "https://www.delftstack.com/howto/python/python-get-class-name/ </br>\n",
    "\n",
    "    "
   ]
  }
 ],
 "metadata": {
  "kernelspec": {
   "display_name": "Python 3 (ipykernel)",
   "language": "python",
   "name": "python3"
  },
  "language_info": {
   "codemirror_mode": {
    "name": "ipython",
    "version": 3
   },
   "file_extension": ".py",
   "mimetype": "text/x-python",
   "name": "python",
   "nbconvert_exporter": "python",
   "pygments_lexer": "ipython3",
   "version": "3.10.5"
  },
  "vscode": {
   "interpreter": {
    "hash": "4a8e3956ebf9a0554e2d7a6d5d87eefcce415d526398f7b989230ab0943211e3"
   }
  }
 },
 "nbformat": 4,
 "nbformat_minor": 2
}
